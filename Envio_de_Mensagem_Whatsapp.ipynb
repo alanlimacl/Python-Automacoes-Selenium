{
 "cells": [
  {
   "cell_type": "code",
   "execution_count": 4,
   "id": "2cc2b21f",
   "metadata": {},
   "outputs": [],
   "source": [
    "# Passo a Passo:\n",
    "# 1. Abrir a planilha\n",
    "# 2. Extrair as informações\n",
    "# 3. Abrir o site Whatsapp\n",
    "# 4. Tempo para confirmar no Celular\n",
    "# 5. Fechar o Pop-Up\n",
    "# 6. Pesquisar pelo Número \n",
    "# 7. Selecionar o Número\n",
    "# 8. Digitar a mensagem e Enviar"
   ]
  },
  {
   "cell_type": "code",
   "execution_count": 1,
   "id": "cc64574d",
   "metadata": {},
   "outputs": [],
   "source": [
    "import pandas as pd\n",
    "from selenium import webdriver\n",
    "from selenium.webdriver.common.by import By\n",
    "from selenium.webdriver import ActionChains\n",
    "from time import sleep"
   ]
  },
  {
   "cell_type": "code",
   "execution_count": 2,
   "id": "af46c7c3",
   "metadata": {},
   "outputs": [],
   "source": [
    "navegador = webdriver.Chrome()\n",
    "navegador.get('http://wa.me/')"
   ]
  },
  {
   "cell_type": "code",
   "execution_count": 3,
   "id": "281b7d50",
   "metadata": {},
   "outputs": [],
   "source": [
    "# Entrando no WhatsApp\n",
    "\n",
    "botao_conversar = navegador.find_element(By.ID, 'action-button')\n",
    "botao_conversar.click()\n",
    "sleep(1)\n",
    "botao_whatsapp_web = navegador.find_element(By.XPATH, '//*[@id=\"fallback_block\"]/div/div/a')\n",
    "botao_whatsapp_web.click()\n",
    "\n",
    "# Esperar para conectar no celular\n",
    "sleep(25)\n",
    "\n",
    "# Pop-Up 'Continuar' WhatsApp\n",
    "navegador.find_element(By.XPATH, '//*[@id=\"app\"]/div/span[2]/div/div/div/div/div/div/div[2]/div/button').click()"
   ]
  },
  {
   "cell_type": "code",
   "execution_count": null,
   "id": "4ad8557b",
   "metadata": {},
   "outputs": [
    {
     "data": {
      "text/html": [
       "<div>\n",
       "<style scoped>\n",
       "    .dataframe tbody tr th:only-of-type {\n",
       "        vertical-align: middle;\n",
       "    }\n",
       "\n",
       "    .dataframe tbody tr th {\n",
       "        vertical-align: top;\n",
       "    }\n",
       "\n",
       "    .dataframe thead th {\n",
       "        text-align: right;\n",
       "    }\n",
       "</style>\n",
       "<table border=\"1\" class=\"dataframe\">\n",
       "  <thead>\n",
       "    <tr style=\"text-align: right;\">\n",
       "      <th></th>\n",
       "      <th>Pessoa</th>\n",
       "      <th>Número</th>\n",
       "      <th>Mensagem</th>\n",
       "    </tr>\n",
       "  </thead>\n",
       "  <tbody>\n",
       "    <tr>\n",
       "      <th>0</th>\n",
       "      <td>Adna</td>\n",
       "      <td>7592551972</td>\n",
       "      <td>Essa mensagem está sendo enviada via Automação</td>\n",
       "    </tr>\n",
       "    <tr>\n",
       "      <th>1</th>\n",
       "      <td>Mãe</td>\n",
       "      <td>7591555368</td>\n",
       "      <td>Essa mensagem está sendo enviada via Automação</td>\n",
       "    </tr>\n",
       "    <tr>\n",
       "      <th>2</th>\n",
       "      <td>Fernanda</td>\n",
       "      <td>7591179778</td>\n",
       "      <td>Essa mensagem está sendo enviada via Automação</td>\n",
       "    </tr>\n",
       "    <tr>\n",
       "      <th>3</th>\n",
       "      <td>Luan</td>\n",
       "      <td>7591339098</td>\n",
       "      <td>Essa mensagem está sendo enviada via Automação</td>\n",
       "    </tr>\n",
       "  </tbody>\n",
       "</table>\n",
       "</div>"
      ],
      "text/plain": [
       "     Pessoa      Número                                        Mensagem\n",
       "0      Adna  7592551972  Essa mensagem está sendo enviada via Automação\n",
       "1       Mãe  7591555368  Essa mensagem está sendo enviada via Automação\n",
       "2  Fernanda  7591179778  Essa mensagem está sendo enviada via Automação\n",
       "3      Luan  7591339098  Essa mensagem está sendo enviada via Automação"
      ]
     },
     "metadata": {},
     "output_type": "display_data"
    }
   ],
   "source": [
    "# Abrindo a Planilha e Percorrendo as Informações\n",
    "planilha = pd.read_excel(r'C:\\Users\\Alan\\Downloads\\Enviar_Whatsapp.xlsx')\n",
    "display(planilha)\n",
    "\n",
    "for linha in planilha.index:\n",
    "    pessoa = planilha.loc[linha, 'Pessoa']\n",
    "    numero = planilha.loc[linha, 'Número']\n",
    "    mensagem = planilha.loc[linha, 'Mensagem']\n",
    "    \n",
    "# Pegando XPATH de cada aba para pesquisa\n",
    "    aba_pesquisa = navegador.find_element(By.XPATH, '//*[@id=\"side\"]/div[1]/div/div[2]/div/div/div/p')\n",
    "    aba_pesquisa.send_keys(str(numero))\n",
    "    \n",
    "    aba_numero = navegador.find_element(By.XPATH, '//*[@id=\"pane-side\"]/div[1]/div/div/div[2]/div/div/div/div[2]/div[1]/div[1]/div/div/span')\n",
    "    aba_numero.click()\n",
    "        \n",
    "    aba_mensagem = navegador.find_element(By.XPATH, '//*[@id=\"main\"]/footer/div[1]/div/span/div/div[2]/div/div[3]/div[1]/p')\n",
    "    aba_mensagem.send_keys(mensagem)\n",
    "    \n",
    "    botao_enviar = navegador.find_element(By.XPATH, '//*[@id=\"main\"]/footer/div[1]/div/span/div/div[2]/div/div[4]/button/span')\n",
    "    botao_enviar.click()"
   ]
  }
 ],
 "metadata": {
  "kernelspec": {
   "display_name": "Python 3",
   "language": "python",
   "name": "python3"
  },
  "language_info": {
   "codemirror_mode": {
    "name": "ipython",
    "version": 3
   },
   "file_extension": ".py",
   "mimetype": "text/x-python",
   "name": "python",
   "nbconvert_exporter": "python",
   "pygments_lexer": "ipython3",
   "version": "3.12.10"
  }
 },
 "nbformat": 4,
 "nbformat_minor": 5
}
