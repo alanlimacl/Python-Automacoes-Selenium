{
 "cells": [
  {
   "cell_type": "code",
   "execution_count": 103,
   "id": "2826cb24",
   "metadata": {},
   "outputs": [],
   "source": [
    "# Passo a Passo:\n",
    "# 1. Abrir a planilha e preparar as informações\n",
    "# 2. Abrir o Navegador e o site\n",
    "# 3. Escolher o estado\n",
    "# 4. Preencher 'Nome da parte' de acordo a informação da planilha \n",
    "# 5. Preencher 'Advogado' de acordo a informação da planilha \n",
    "# 6. Preencher 'Número do processo' de acordo a informação da planilha\n",
    "# 7. Clicar em Pesquisar\n",
    "# 8. Selecionar OK no POP-UP\n",
    "# 9. Aguardar o resultado do POP-UP\n",
    "# 10. Pegar informações do resultado da pesquisa no POP-UP\n",
    "# 11. Colocar numa nova planilha o resultado da pesquisa\n",
    "# 12. Repetir até acabar\n"
   ]
  },
  {
   "cell_type": "code",
   "execution_count": 104,
   "id": "762772dd",
   "metadata": {},
   "outputs": [],
   "source": [
    "from selenium import webdriver\n",
    "from selenium.webdriver.common.by import By\n",
    "from selenium.webdriver import ActionChains\n",
    "import pandas as pd\n",
    "from time import sleep\n"
   ]
  },
  {
   "cell_type": "code",
   "execution_count": null,
   "id": "55a134bd",
   "metadata": {},
   "outputs": [],
   "source": [
    "# 1. Abrir o Navegador e o site\n",
    "navegador = webdriver.Chrome()\n",
    "navegador.get(r'C:\\Users\\Alan\\Downloads\\Arquivos Projeto Consulta Juridica\\Arquivos\\index.html')\n",
    "botao = navegador.find_element(By.XPATH, '/html/body/div/div/button')\n",
    "# Mover o mouse até a opção de abrir a lista de botões\n",
    "ActionChains(navegador).move_to_element(botao).perform()\n",
    "sleep(1)"
   ]
  },
  {
   "cell_type": "code",
   "execution_count": null,
   "id": "8b079098",
   "metadata": {},
   "outputs": [],
   "source": [
    "# 2. Abrir a planilha e preparar as informações\n",
    "planilha_processos = pd.read_excel(r'C:\\Users\\Alan\\Downloads\\Arquivos Projeto Consulta Juridica\\Arquivos\\Processos.xlsx')\n",
    "\n",
    "# Percorrer as linhas da planilha \n",
    "for linha in planilha_processos.index: # Percorrendo pelo indice\n",
    "    cidade = planilha_processos.loc[linha, 'Cidade'] # Pegando valor das cidades e colocando numa variável\n",
    "    \n",
    "    # Clicando no campo cidade no site de acordo com cada linha da planilha\n",
    "    botao_df = navegador.find_element(By.PARTIAL_LINK_TEXT, cidade)\n",
    "    botao_df.click()\n",
    "    \n",
    "    # Lista das Abas\n",
    "    aba_pesquisa = navegador.window_handles[0]\n",
    "    aba_nova = navegador.window_handles[1]\n",
    "\n",
    "    # Mudando para nova aba\n",
    "    navegador.switch_to.window(aba_nova) \n",
    "    \n",
    "    # Preenchendo em cada campo as informações necessarias\n",
    "    navegador.find_element(By.ID, 'nome').send_keys(planilha_processos.loc[linha, 'Nome'])\n",
    "    navegador.find_element(By.ID, 'advogado').send_keys(planilha_processos.loc[linha, 'Advogado'])\n",
    "    navegador.find_element(By.ID, 'numero').send_keys(planilha_processos.loc[linha, 'Processo'])\n",
    "\n",
    "    navegador.find_element(By.CLASS_NAME, 'registerbtn').click() # Clicando em Pesquisar\n",
    "    \n",
    "    # Primeiro Alerta \"Buscar no nosso Banco de Dados\"\n",
    "    alerta = navegador.switch_to.alert\n",
    "    sleep(1)\n",
    "    alerta.accept()\n",
    "    \n",
    "    # Esperar pro segundo Alerta\n",
    "    # Criando um loop enquanto espera o 2° Alerta\n",
    "    while True:\n",
    "        try:\n",
    "            alerta2 = navegador.switch_to.alert # Quando encontrar o alerta para o loop\n",
    "            break\n",
    "        except:\n",
    "            sleep(1)\n",
    "    \n",
    "    texto_alerta2 = alerta2.text # Pegando texto do 2 alerta\n",
    "    \n",
    "    # Criando uma condição, se tiver processo preenhcer a planilha com 'sim', senão, preencher com 'não'\n",
    "    \n",
    "    # Preencher linha por linha o resultado da pesquisa:\n",
    "    if 'Processo encontrado com sucesso' in texto_alerta2:\n",
    "        planilha_processos.loc[linha, 'Status'] = 'Processo Encontrado' # Lembrete: Quando preencher com resultado, preencher linha por linha com o .loc[linha, coluna]\n",
    "        alerta2.accept()\n",
    "        print('Processo Encontrado')\n",
    "    else:\n",
    "        planilha_processos.loc[linha, 'Status'] = 'Processo não Encontrado' # Lembrete: Quando preencher com resultado, preencher linha por linha com o .loc[linha, coluna]\n",
    "        alerta2.accept()\n",
    "        print('Processo não Encontrado')\n",
    "\n",
    "    # Fechando a Aba Atual \n",
    "    navegador.close()\n",
    "    # Mudando para a Aba de Pesquisa\n",
    "    navegador.switch_to.window(aba_pesquisa)\n",
    "\n",
    "    # Volta pro Incio do for e refaz todo passo a passo\n",
    "    \n",
    "navegador.quit() # Fechando o navegador"
   ]
  },
  {
   "cell_type": "code",
   "execution_count": null,
   "id": "e773a603",
   "metadata": {},
   "outputs": [],
   "source": [
    "# Salvando planilha em uma cópia com outro nome\n",
    "planilha_processos.to_excel('Processos Atualizados.xlsx')"
   ]
  }
 ],
 "metadata": {
  "kernelspec": {
   "display_name": "Python 3",
   "language": "python",
   "name": "python3"
  },
  "language_info": {
   "codemirror_mode": {
    "name": "ipython",
    "version": 3
   },
   "file_extension": ".py",
   "mimetype": "text/x-python",
   "name": "python",
   "nbconvert_exporter": "python",
   "pygments_lexer": "ipython3",
   "version": "3.12.10"
  }
 },
 "nbformat": 4,
 "nbformat_minor": 5
}
